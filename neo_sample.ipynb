{
 "cells": [
  {
   "cell_type": "code",
   "execution_count": 2,
   "metadata": {},
   "outputs": [
    {
     "name": "stderr",
     "output_type": "stream",
     "text": [
      "c:\\Users\\saran\\anaconda3\\envs\\py3.7\\lib\\site-packages\\neontology\\graphconnection.py:43: ExperimentalWarning: The configuration may change in the future.\n",
      "  driver.verify_connectivity()\n"
     ]
    }
   ],
   "source": [
    "from typing import ClassVar\n",
    "import pandas as pd\n",
    "from pydantic import BaseModel, Field\n",
    "from neontology import BaseNode, BaseRelationship, init_neontology\n",
    "\n",
    "NEO4J_URI=\"bolt://localhost:7687\"  # neo4j Aura example\n",
    "NEO4J_USERNAME=\"neo4j\"\n",
    "NEO4J_PASSWORD=\"abcd1234\"\n",
    "\n",
    "# initialise the connection to the database\n",
    "init_neontology(\n",
    "    neo4j_uri=NEO4J_URI,\n",
    "    neo4j_username=NEO4J_USERNAME,\n",
    "    neo4j_password=NEO4J_PASSWORD\n",
    ")"
   ]
  },
  {
   "cell_type": "code",
   "execution_count": 5,
   "metadata": {},
   "outputs": [],
   "source": [
    "class Address(BaseModel):\n",
    "    street: str\n",
    "    plz_code: int\n",
    "    house_number: int\n",
    "    city: str\n",
    "\n",
    "class PersonNode(BaseNode):\n",
    "    __primarylabel__: ClassVar[str] = \"Person\"\n",
    "    __primaryproperty__: ClassVar[str] = \"name\"\n",
    "    \n",
    "    name: str\n",
    "    age: int\n",
    "    # address: Address   \n",
    "\n",
    "class Address_Node(BaseNode):\n",
    "    __primarylabel__: ClassVar[str] = \"Address\"\n",
    "    __primaryproperty__: ClassVar[str] = \"street\"\n",
    "\n",
    "    street: str\n",
    "    plz_code: int\n",
    "    house_number: int\n",
    "    city: str\n",
    "\n",
    "# We define relationships by inheriting from BaseRelationship\n",
    "class FollowsRel(BaseRelationship):\n",
    "    __relationshiptype__: ClassVar[str] = \"FOLLOWS\"\n",
    "    \n",
    "    source: PersonNode\n",
    "    target: PersonNode\n",
    "\n",
    "class LivesAt(BaseRelationship):\n",
    "    __relationshiptype__: ClassVar[str] = \"LIVES_AT\"\n",
    "    \n",
    "    source: PersonNode\n",
    "    target: Address_Node "
   ]
  },
  {
   "cell_type": "code",
   "execution_count": 10,
   "metadata": {},
   "outputs": [],
   "source": [
    "davids_address = Address_Node(street=\"Walther-Rathenau-Straße\", house_number=43, city=\"Magdeburg\", plz_code=39106)\n",
    "davids_address2 = Address_Node(street=\"J-G-Nathusius\", house_number=38, city=\"Magdeburg\", plz_code=39106)\n",
    "\n",
    "# Define a couple of people\n",
    "alice = PersonNode(name=\"Alice\", age=40)\n",
    "\n",
    "bob = PersonNode(name=\"Bob\", age=40)\n",
    "\n",
    "david = PersonNode(name=\"David\", age= 27)\n",
    "# david = PersonNode(name=\"David\", age= 27, address=davids_address)\n",
    "\n",
    "# Create them in the database\n",
    "alice.create()\n",
    "bob.create()\n",
    "david.create()\n",
    "davids_address.create()\n",
    "\n",
    "# Create a follows relationship between them\n",
    "rel = FollowsRel(source=bob,target=alice)\n",
    "rel.merge()\n",
    "\n",
    "rel2 = LivesAt(source=david, target=davids_address)\n",
    "rel2.merge()\n"
   ]
  },
  {
   "cell_type": "code",
   "execution_count": null,
   "metadata": {},
   "outputs": [],
   "source": []
  }
 ],
 "metadata": {
  "kernelspec": {
   "display_name": "py3.7",
   "language": "python",
   "name": "python3"
  },
  "language_info": {
   "codemirror_mode": {
    "name": "ipython",
    "version": 3
   },
   "file_extension": ".py",
   "mimetype": "text/x-python",
   "name": "python",
   "nbconvert_exporter": "python",
   "pygments_lexer": "ipython3",
   "version": "3.7.13"
  },
  "orig_nbformat": 4
 },
 "nbformat": 4,
 "nbformat_minor": 2
}
