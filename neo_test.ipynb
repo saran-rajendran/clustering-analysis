{
 "cells": [
  {
   "cell_type": "code",
   "execution_count": 1,
   "metadata": {},
   "outputs": [],
   "source": [
    "from typing import ClassVar, Dict\n",
    "import pandas as pd\n",
    "from pydantic import BaseModel, Field\n",
    "from neontology import BaseNode, BaseRelationship, init_neontology, auto_constrain\n",
    "\n",
    "import config\n",
    "\n",
    "NEO4J_URI = \"bolt://localhost:7687\"\n",
    "NEO4J_USERNAME = \"neo4j\"\n",
    "NEO4J_PASSWORD = \"abcd1234\""
   ]
  },
  {
   "cell_type": "code",
   "execution_count": 2,
   "metadata": {},
   "outputs": [
    {
     "name": "stderr",
     "output_type": "stream",
     "text": [
      "c:\\Users\\saran\\anaconda3\\envs\\py3.7\\lib\\site-packages\\neontology\\graphconnection.py:43: ExperimentalWarning: The configuration may change in the future.\n",
      "  driver.verify_connectivity()\n"
     ]
    }
   ],
   "source": [
    "init_neontology(\n",
    "    neo4j_uri=NEO4J_URI,\n",
    "    neo4j_username=NEO4J_USERNAME,\n",
    "    neo4j_password=NEO4J_PASSWORD\n",
    ")\n"
   ]
  },
  {
   "cell_type": "code",
   "execution_count": 3,
   "metadata": {},
   "outputs": [],
   "source": [
    "class PinNode(BaseNode):\n",
    "    __primarylabel__: ClassVar[str] = \"ID\"\n",
    "    __primaryproperty__: ClassVar[str] = \"pin_id\"\n",
    "    \n",
    "    pin_id: str\n",
    "    pin_type: str\n",
    "    kostenstelle: int\n",
    "    arbeitsfolge: str\n",
    "    bearbeitungsschritt: str\n",
    "    datum: str\n",
    "    zeit: str\n",
    "    ergebnis: str\n",
    "    ausfuerungszeit: float\n",
    "    anzeigezeit: int\n",
    "\n",
    "\n",
    "class FeatureNode(BaseNode):\n",
    "    __primarylabel__: ClassVar[str] = \"Feature\"\n",
    "    __primaryproperty__: ClassVar[str] = \"name\"\n",
    "    # pin_id: str\n",
    "    name: str\n",
    "    value: float\n",
    "    upper: float\n",
    "    lower: float\n",
    "\n",
    "class LabelNode(BaseNode):\n",
    "    __primarylabel__: ClassVar[str] = \"Label\"\n",
    "    __primaryproperty__: ClassVar[str] = \"label\"\n",
    "    label: int\n",
    "\n",
    "class HasFeatureRelationship(BaseRelationship):\n",
    "    __relationshiptype__: ClassVar[str] = \"HAS_FEATURE\"\n",
    "    \n",
    "    source: PinNode\n",
    "    target: FeatureNode\n",
    "\n",
    "\n",
    "class HasLabelRelationship(BaseRelationship):\n",
    "    __relationshiptype__: ClassVar[str] = \"HAS_LABEL\"\n",
    "    \n",
    "    source: PinNode\n",
    "    target: LabelNode"
   ]
  },
  {
   "cell_type": "code",
   "execution_count": 4,
   "metadata": {},
   "outputs": [],
   "source": [
    "df = pd.read_csv(r'D:\\MyDocs\\DE\\Projects\\Project_Clustering\\data\\Combined\\20220202_15_7512_0030_Drahtprüfung.csv', delimiter=';')\n",
    "df = df.iloc[:10, :]\n",
    "df['label'] = 1\n",
    "for _, row in df.iterrows():\n",
    "    pin_node = PinNode(pin_id=row['Pin_ID'], pin_type=row['Pin_Type'], kostenstelle=row['Kostenstelle'], arbeitsfolge=row['Arbeitsfolge'], \n",
    "                        bearbeitungsschritt=row['Bearbeitungsschritt'], datum=row['Datum'], zeit=row['Zeit'], ergebnis=row['Ergebnis'], \n",
    "                        ausfuerungszeit=row['Ausfuehrungszeit'], anzeigezeit=row['Anzeigezeit'])\n",
    "    pin_node.create()\n",
    "\n",
    "    feature_nodes = []\n",
    "    for feature in config.features_with_threshold.keys():\n",
    "        feature_node = FeatureNode(\n",
    "            name=feature,\n",
    "            value=row[config.features_with_threshold[feature][0]],\n",
    "            upper=row[config.features_with_threshold[feature][1]],\n",
    "            lower=row[config.features_with_threshold[feature][2]]\n",
    "        )\n",
    "        feature_node.create()\n",
    "        feature_nodes.append(feature_node)\n",
    "\n",
    "\n",
    "    label_node = LabelNode(label=row['label'])\n",
    "    label_node.create()\n",
    "\n",
    "    # Create relationships\n",
    "    for feature_node in feature_nodes:\n",
    "        rel = HasFeatureRelationship(source=pin_node, target=feature_node)\n",
    "        rel.merge()\n",
    "    \n",
    "    rel = HasLabelRelationship(source=pin_node, target=label_node)\n",
    "    rel.merge()\n"
   ]
  },
  {
   "cell_type": "code",
   "execution_count": null,
   "metadata": {},
   "outputs": [],
   "source": []
  },
  {
   "cell_type": "code",
   "execution_count": null,
   "metadata": {},
   "outputs": [],
   "source": []
  }
 ],
 "metadata": {
  "kernelspec": {
   "display_name": "py3.7",
   "language": "python",
   "name": "python3"
  },
  "language_info": {
   "codemirror_mode": {
    "name": "ipython",
    "version": 3
   },
   "file_extension": ".py",
   "mimetype": "text/x-python",
   "name": "python",
   "nbconvert_exporter": "python",
   "pygments_lexer": "ipython3",
   "version": "3.7.13"
  },
  "orig_nbformat": 4
 },
 "nbformat": 4,
 "nbformat_minor": 2
}
